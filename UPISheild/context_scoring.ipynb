{
 "cells": [
  {
   "cell_type": "code",
   "execution_count": 7,
   "id": "a84a52ba-e2f8-432d-a0a4-d8eea3c0572a",
   "metadata": {},
   "outputs": [
    {
     "name": "stdout",
     "output_type": "stream",
     "text": [
      "Requirement already satisfied: easyocr in c:\\users\\dell\\anaconda3\\lib\\site-packages (1.7.2)\n",
      "Requirement already satisfied: torch in c:\\users\\dell\\anaconda3\\lib\\site-packages (from easyocr) (2.7.1)\n",
      "Requirement already satisfied: torchvision>=0.5 in c:\\users\\dell\\anaconda3\\lib\\site-packages (from easyocr) (0.22.1)\n",
      "Requirement already satisfied: opencv-python-headless in c:\\users\\dell\\anaconda3\\lib\\site-packages (from easyocr) (4.8.0.76)\n",
      "Requirement already satisfied: scipy in c:\\users\\dell\\anaconda3\\lib\\site-packages (from easyocr) (1.11.4)\n",
      "Requirement already satisfied: numpy in c:\\users\\dell\\anaconda3\\lib\\site-packages (from easyocr) (1.24.3)\n",
      "Requirement already satisfied: Pillow in c:\\users\\dell\\anaconda3\\lib\\site-packages (from easyocr) (10.0.0)\n",
      "Requirement already satisfied: scikit-image in c:\\users\\dell\\anaconda3\\lib\\site-packages (from easyocr) (0.22.0)\n",
      "Requirement already satisfied: python-bidi in c:\\users\\dell\\anaconda3\\lib\\site-packages (from easyocr) (0.6.6)\n",
      "Requirement already satisfied: PyYAML in c:\\users\\dell\\anaconda3\\lib\\site-packages (from easyocr) (6.0.1)\n",
      "Requirement already satisfied: Shapely in c:\\users\\dell\\anaconda3\\lib\\site-packages (from easyocr) (2.1.1)\n",
      "Requirement already satisfied: pyclipper in c:\\users\\dell\\anaconda3\\lib\\site-packages (from easyocr) (1.3.0.post6)\n",
      "Requirement already satisfied: ninja in c:\\users\\dell\\anaconda3\\lib\\site-packages (from easyocr) (1.11.1.4)\n",
      "Requirement already satisfied: filelock in c:\\users\\dell\\anaconda3\\lib\\site-packages (from torch->easyocr) (3.13.1)\n",
      "Requirement already satisfied: typing-extensions>=4.10.0 in c:\\users\\dell\\anaconda3\\lib\\site-packages (from torch->easyocr) (4.14.1)\n",
      "Requirement already satisfied: sympy>=1.13.3 in c:\\users\\dell\\anaconda3\\lib\\site-packages (from torch->easyocr) (1.14.0)\n",
      "Requirement already satisfied: networkx in c:\\users\\dell\\anaconda3\\lib\\site-packages (from torch->easyocr) (3.1)\n",
      "Requirement already satisfied: jinja2 in c:\\users\\dell\\anaconda3\\lib\\site-packages (from torch->easyocr) (3.1.3)\n",
      "Requirement already satisfied: fsspec in c:\\users\\dell\\anaconda3\\lib\\site-packages (from torch->easyocr) (2023.10.0)\n",
      "Requirement already satisfied: imageio>=2.27 in c:\\users\\dell\\anaconda3\\lib\\site-packages (from scikit-image->easyocr) (2.33.1)\n",
      "Requirement already satisfied: tifffile>=2022.8.12 in c:\\users\\dell\\anaconda3\\lib\\site-packages (from scikit-image->easyocr) (2023.4.12)\n",
      "Requirement already satisfied: packaging>=21 in c:\\users\\dell\\anaconda3\\lib\\site-packages (from scikit-image->easyocr) (23.1)\n",
      "Requirement already satisfied: lazy_loader>=0.3 in c:\\users\\dell\\anaconda3\\lib\\site-packages (from scikit-image->easyocr) (0.3)\n",
      "Requirement already satisfied: mpmath<1.4,>=1.1.0 in c:\\users\\dell\\anaconda3\\lib\\site-packages (from sympy>=1.13.3->torch->easyocr) (1.3.0)\n",
      "Requirement already satisfied: MarkupSafe>=2.0 in c:\\users\\dell\\anaconda3\\lib\\site-packages (from jinja2->torch->easyocr) (2.1.3)\n"
     ]
    }
   ],
   "source": [
    "!pip install easyocr"
   ]
  },
  {
   "cell_type": "code",
   "execution_count": 9,
   "id": "5a546f26-2b13-4908-9cf3-5863118bbde9",
   "metadata": {},
   "outputs": [
    {
     "name": "stderr",
     "output_type": "stream",
     "text": [
      "[nltk_data] Downloading package vader_lexicon to\n",
      "[nltk_data]     C:\\Users\\Dell\\AppData\\Roaming\\nltk_data...\n"
     ]
    },
    {
     "data": {
      "text/plain": [
       "True"
      ]
     },
     "execution_count": 9,
     "metadata": {},
     "output_type": "execute_result"
    }
   ],
   "source": [
    "import nltk\n",
    "nltk.download('vader_lexicon')"
   ]
  },
  {
   "cell_type": "code",
   "execution_count": 10,
   "id": "7c96db69-a569-481e-83fc-4ae7ee833c02",
   "metadata": {},
   "outputs": [
    {
     "name": "stderr",
     "output_type": "stream",
     "text": [
      "Neither CUDA nor MPS are available - defaulting to CPU. Note: This module is much faster with a GPU.\n"
     ]
    }
   ],
   "source": [
    "import easyocr\n",
    "reader = easyocr.Reader(['en'])\n",
    "\n",
    "from nltk.sentiment import SentimentIntensityAnalyzer\n",
    "sia = SentimentIntensityAnalyzer()\n"
   ]
  },
  {
   "cell_type": "code",
   "execution_count": 11,
   "id": "9ca0f31f-f1f6-4762-a107-35b045830c33",
   "metadata": {},
   "outputs": [],
   "source": [
    "def extract_text_from_image(image_path):\n",
    "    \"\"\"\n",
    "    Extracts visible text from an image using EasyOCR.\n",
    "    \"\"\"\n",
    "    results = reader.readtext(image_path, detail=0)\n",
    "    extracted_text = \" \".join(results)\n",
    "    return extracted_text\n"
   ]
  },
  {
   "cell_type": "code",
   "execution_count": 12,
   "id": "4008e3af-0e7e-4656-a0c4-a57380a280f5",
   "metadata": {},
   "outputs": [],
   "source": [
    "SCAM_KEYWORDS = [\n",
    "    # Urgency / Threat\n",
    "    \"verify\", \"account blocked\", \"urgent\", \"limited time\", \"immediate action\", \"final warning\",\n",
    "    \"update now\", \"act fast\", \"deadline\", \"security alert\", \"deactivation\", \"unauthorized access\",\n",
    "\n",
    "    # Refund / Payment Scams\n",
    "    \"refund\", \"payment failed\", \"transaction failed\", \"pay immediately\", \"receive money\",\n",
    "    \"get back\", \"pending amount\", \"recharge issue\", \"loan approved\", \"claim refund\", \"wrong payment\",\n",
    "\n",
    "    # Clickbait / Phishing Triggers\n",
    "    \"click here\", \"open link\", \"tap now\", \"scan to receive\", \"visit now\", \"login here\", \"redeem now\",\n",
    "    \"login quickly\", \"scan QR\", \"follow instructions\",\n",
    "\n",
    "    # Free / Prize / Reward\n",
    "    \"win\", \"reward\", \"free\", \"gift\", \"bonus\", \"offer ends\", \"cashback\", \"you are selected\", \n",
    "    \"lucky draw\", \"free recharge\", \"prize claim\",\n",
    "\n",
    "    # OTP / Fake Verification\n",
    "    \"OTP\", \"activation\", \"your account\", \"bank issue\", \"validate\", \"confirm your identity\",\n",
    "    \"update KYC\", \"kyc expired\", \"complete KYC\", \"aadhaar verify\", \"PAN verification\", \"reset password\",\n",
    "\n",
    "    # UPI/BharatPay Specific\n",
    "    \"UPI refund\", \"UPI support\", \"BharatPay\", \"Scan this code\", \"QR payment\", \"check transaction\",\n",
    "    \"pay ₹1 to verify\", \"request sent\", \"account credited\",\n",
    "\n",
    "    # Psychological pressure\n",
    "    \"emergency\", \"family issue\", \"accident\", \"hospital\", \"doctor fee\", \"help me\", \"need money urgently\",\n",
    "    \"money stuck\", \"I’m stranded\", \"mom in hospital\", \"ambulance\"\n",
    "\n",
    "]\n"
   ]
  },
  {
   "cell_type": "code",
   "execution_count": 15,
   "id": "68acc543-af3b-4b76-87e8-fb8aaa224d52",
   "metadata": {},
   "outputs": [],
   "source": [
    "def context_score(text,SCAM_KEYWORDS):\n",
    "    if not text:\n",
    "        return {\n",
    "            'text': '',\n",
    "            'scam_keywords_count': 0,\n",
    "            'sentiment': {},\n",
    "            'context_score': 0.0,\n",
    "            'suspicious': False\n",
    "        }\n",
    "\n",
    "    # Normalize\n",
    "    text_lower = text.lower()\n",
    "\n",
    "    # Keyword scam score\n",
    "    scam_hits = [kw for kw in SCAM_KEYWORDS if kw in text_lower]\n",
    "    scam_score = len(scam_hits)\n",
    "\n",
    "    # Sentiment\n",
    "    sentiment = sia.polarity_scores(text)\n",
    "\n",
    "    # Combine scores\n",
    "    context_score = (scam_score * 0.5) + (sentiment['neg'] * 5)  # Weight keywords + negative tone\n",
    "    suspicious = context_score > 2  \n",
    "\n",
    "    return {\n",
    "        'text': text,\n",
    "        'scam_keywords': scam_hits,\n",
    "        'scam_keywords_count': scam_score,\n",
    "        'sentiment': sentiment,\n",
    "        'context_score': round(context_score, 2),\n",
    "        'suspicious': suspicious\n",
    "    }\n"
   ]
  },
  {
   "cell_type": "code",
   "execution_count": 14,
   "id": "a6e70857-385e-4e75-965c-f633fe2f4465",
   "metadata": {},
   "outputs": [],
   "source": [
    "def explain_prediction(upi_id, context_result, anomaly_score):\n",
    "    if context_result['suspicious'] and anomaly_score == -1:\n",
    "        reason = f\"The system flagged this as suspicious because the message contains keywords like {context_result['scam_keywords']} and had a high negative sentiment.\"\n",
    "    elif context_result['suspicious']:\n",
    "        reason = f\"The context around this message raised red flags due to keywords like {context_result['scam_keywords']} and emotional tone.\"\n",
    "    elif anomaly_score == -1:\n",
    "        reason = f\"The UPI ID '{upi_id}' shows unusual behavior compared to common patterns, based on our anomaly detection model.\"\n",
    "    else:\n",
    "        reason = f\"The UPI ID '{upi_id}' appears normal based on both its behavior and message context.\"\n",
    "    \n",
    "    return reason\n"
   ]
  },
  {
   "cell_type": "code",
   "execution_count": null,
   "id": "03bedff1-2c7d-41bf-a960-ab7bffc78fd4",
   "metadata": {},
   "outputs": [],
   "source": [
    "# import streamlit as st\n",
    "\n",
    "# st.header(\"Model Explanation\")\n",
    "\n",
    "# # After your model makes a prediction\n",
    "# last_result = {\n",
    "#     'upi_id': 'abc@upi',\n",
    "#     'context': context_score(\"Verify your account immediately or get blocked.\"),\n",
    "#     'model_pred': -1\n",
    "# }\n",
    "\n",
    "# explanation = explain_prediction(last_result['upi_id'], last_result['context'], last_result['model_pred'])\n",
    "# st.info(explanation)\n",
    "\n",
    "# # Mini chat interface\n",
    "# st.subheader(\"Ask UPIShield Bot 👇\")\n",
    "# user_question = st.text_input(\"Ask me why this was flagged...\")\n",
    "\n",
    "# if user_question:\n",
    "#     bot_reply = mini_bot(user_question, last_result)\n",
    "#     st.success(bot_reply)\n",
    "\n",
    "# # Optional Feedback\n",
    "# feedback = st.radio(\"Was this explanation helpful?\", [\"Yes\", \"No\"])\n",
    "# if st.button(\"Submit Feedback\"):\n",
    "#     st.success(\"Thanks! Your feedback helps improve the model.\")\n"
   ]
  }
 ],
 "metadata": {
  "kernelspec": {
   "display_name": "Python 3 (ipykernel)",
   "language": "python",
   "name": "python3"
  },
  "language_info": {
   "codemirror_mode": {
    "name": "ipython",
    "version": 3
   },
   "file_extension": ".py",
   "mimetype": "text/x-python",
   "name": "python",
   "nbconvert_exporter": "python",
   "pygments_lexer": "ipython3",
   "version": "3.11.7"
  }
 },
 "nbformat": 4,
 "nbformat_minor": 5
}
