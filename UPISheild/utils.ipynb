{
 "cells": [
  {
   "cell_type": "code",
   "execution_count": 1,
   "id": "a2d4ab65-00a7-4ac0-8359-531ea37f8eff",
   "metadata": {},
   "outputs": [],
   "source": [
    "import re\n",
    "import cv2\n",
    "import pandas as pd\n",
    "import os\n",
    "from datetime import datetime\n",
    "# from pyzbar.pyzbar import decode"
   ]
  },
  {
   "cell_type": "code",
   "execution_count": 2,
   "id": "cc78358d-6359-4353-86d4-03e23d37ce2b",
   "metadata": {},
   "outputs": [],
   "source": [
    "# -------- Extract UPI ID from link ----------\n",
    "def extract_upi_id_from_link(link):\n",
    "    match = re.search(r'pa=([^&]+)', link)\n",
    "    return match.group(1) if match else None\n",
    "\n",
    "# -------- Read QR Code and extract UPI ID ----------\n",
    "def extract_qr_data(image_path):\n",
    "    detector = cv2.QRCodeDetector()\n",
    "    img = cv2.imread(image_path)\n",
    "    data, bbox, _ = detector.detectAndDecode(img)\n",
    "    return data\n",
    "\n",
    "# -------- Unified input handler ----------\n",
    "def get_upi_input():\n",
    "    print(\"Select Input Type:\")\n",
    "    print(\"1. Enter UPI ID manually\")\n",
    "    print(\"2. Enter UPI payment link\")\n",
    "    print(\"3. Upload QR code image\")\n",
    "\n",
    "    choice = input(\"Enter choice (1/2/3): \").strip()\n",
    "\n",
    "    if choice == '1':\n",
    "        upi_id = input(\"Enter UPI ID (e.g., abc@upi): \").strip()\n",
    "    elif choice == '2':\n",
    "        link = input(\"Paste UPI link (e.g., upi://pay?...): \").strip()\n",
    "        upi_id = extract_upi_id_from_link(link)\n",
    "        if not upi_id:\n",
    "            print(\"Could not extract UPI ID from link.\")\n",
    "            return None\n",
    "    elif choice == '3':\n",
    "        path = input(\"Enter image path (e.g., ./qr.png): \").strip()\n",
    "        upi_id = extract_qr_data(path)\n",
    "        if not upi_id:\n",
    "            print(\"No valid QR code found.\")\n",
    "            return None\n",
    "    else:\n",
    "        print(\"Invalid choice.\")\n",
    "        return None\n",
    "\n",
    "    print(f\"\\n✅ Extracted UPI ID: {upi_id}\")\n",
    "    return upi_id\n"
   ]
  },
  {
   "cell_type": "code",
   "execution_count": 3,
   "id": "56f995b9-2aa6-40ea-85c7-e3f5d26bc59a",
   "metadata": {},
   "outputs": [],
   "source": [
    "def community_report(upi_id, message, reason, reporter=None):\n",
    "    \"\"\"\n",
    "    Stores community-reported scam data for future scoring/tracking.\n",
    "    \"\"\"\n",
    "    report = {\n",
    "        \"upi_id\": upi_id,\n",
    "        \"message\": message,\n",
    "        \"reason\": reason,\n",
    "        \"reporter\": reporter if reporter else \"anonymous\",\n",
    "        \"timestamp\": datetime.now().isoformat()\n",
    "    }\n",
    "\n",
    "    file_path = \"community_reports.csv\"\n",
    "\n",
    "    # Append or create\n",
    "    if os.path.exists(file_path):\n",
    "        df = pd.read_csv(file_path)\n",
    "        df = pd.concat([df, pd.DataFrame([report])], ignore_index=True)\n",
    "    else:\n",
    "        df = pd.DataFrame([report])\n",
    "\n",
    "    df.to_csv(file_path, index=False)\n",
    "    print(\"✅ Report saved. Thank you for contributing!\")\n",
    "\n",
    "    return True\n"
   ]
  },
  {
   "cell_type": "code",
   "execution_count": null,
   "id": "ea9f7465-9ac0-4ed7-a8bd-1b284ae72fad",
   "metadata": {},
   "outputs": [],
   "source": []
  }
 ],
 "metadata": {
  "kernelspec": {
   "display_name": "Python 3 (ipykernel)",
   "language": "python",
   "name": "python3"
  },
  "language_info": {
   "codemirror_mode": {
    "name": "ipython",
    "version": 3
   },
   "file_extension": ".py",
   "mimetype": "text/x-python",
   "name": "python",
   "nbconvert_exporter": "python",
   "pygments_lexer": "ipython3",
   "version": "3.11.7"
  }
 },
 "nbformat": 4,
 "nbformat_minor": 5
}
